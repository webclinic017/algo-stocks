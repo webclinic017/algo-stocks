{
 "cells": [
  {
   "cell_type": "code",
   "execution_count": 8,
   "metadata": {},
   "outputs": [],
   "source": [
    "import os\n",
    "import sys\n",
    "import pandas as pd\n",
    "import numpy as np\n",
    "\n",
    "METHOD_MODULE_PATH = os.path.abspath('../')\n",
    "sys.path.insert(1, METHOD_MODULE_PATH)\n",
    "import method.algofuncs as _af"
   ]
  },
  {
   "cell_type": "code",
   "execution_count": 9,
   "metadata": {},
   "outputs": [],
   "source": [
    "DATA_PATH = os.path.abspath('../vn-stock-data/VNX/')\n",
    "ticker_data = _af.get_pricing_by_path(DATA_PATH + '/' + 'PNJ.csv')"
   ]
  },
  {
   "cell_type": "code",
   "execution_count": 10,
   "metadata": {},
   "outputs": [
    {
     "name": "stdout",
     "output_type": "stream",
     "text": [
      "[ 0.          0.          0.          0.          0.          0.\n",
      "  0.          0.          0.          0.          0.          0.\n",
      "  0.          0.          0.          0.          0.          0.\n",
      "  0.          0.          0.          0.          0.          0.\n",
      "  0.          0.          0.          0.          0.          0.\n",
      "  0.          0.          0.          0.          0.          0.\n",
      "  0.          0.          0.          0.          0.          0.\n",
      "  0.          0.          0.          0.          0.          0.\n",
      "  0.          0.          0.          0.          0.          0.\n",
      "  0.          0.          0.          0.          0.          0.\n",
      "  0.          0.          0.          0.          0.          0.\n",
      "  0.          0.          0.          0.          0.          0.\n",
      "  0.          0.          0.          0.          0.          0.\n",
      "  0.          0.          0.          0.          0.          0.\n",
      "  0.          0.          0.          0.          0.          0.\n",
      "  0.          0.          0.          0.          0.          0.\n",
      "  0.          0.          0.         44.44444444 45.45454545 45.45454545\n",
      " 47.47474747 47.47474747 48.48484848 47.47474747 46.46464646 46.46464646\n",
      " 46.46464646 46.46464646 47.47474747 46.46464646 47.47474747 47.47474747\n",
      " 46.46464646 49.49494949 50.50505051 51.51515152 51.51515152 52.52525253\n",
      " 53.53535354 52.52525253 52.52525253 52.52525253 51.51515152 51.51515152\n",
      " 51.51515152 51.51515152 52.52525253 53.53535354 52.52525253 52.52525253\n",
      " 53.53535354 53.53535354 53.53535354 53.53535354 52.52525253 53.53535354\n",
      " 54.54545455 53.53535354 53.53535354 53.53535354 52.52525253 53.53535354\n",
      " 53.53535354 53.53535354 55.55555556 54.54545455 54.54545455 54.54545455\n",
      " 54.54545455 55.55555556 56.56565657 56.56565657 55.55555556 55.55555556\n",
      " 53.53535354 54.54545455 54.54545455 53.53535354 51.51515152 52.52525253\n",
      " 51.51515152 51.51515152 51.51515152 51.51515152 52.52525253 51.51515152\n",
      " 51.51515152 51.51515152 50.50505051 50.50505051 51.51515152 51.51515152\n",
      " 51.51515152 51.51515152 51.51515152 50.50505051 50.50505051 51.51515152\n",
      " 51.51515152 52.52525253 53.53535354 54.54545455 55.55555556 55.55555556\n",
      " 54.54545455 54.54545455 55.55555556 53.53535354 52.52525253 52.52525253\n",
      " 51.51515152 52.52525253 52.52525253 52.52525253 51.51515152 50.50505051\n",
      " 51.51515152 50.50505051]\n"
     ]
    }
   ],
   "source": [
    "if type(ticker_data) is pd.core.frame.DataFrame:\n",
    "    data = np.array(ticker_data[\"Close\"].copy().tail(200))\n",
    "    reversed_price = data[::-1]\n",
    "    print(_af.MMI(reversed_price))"
   ]
  },
  {
   "cell_type": "code",
   "execution_count": null,
   "metadata": {},
   "outputs": [],
   "source": []
  }
 ],
 "metadata": {
  "kernelspec": {
   "display_name": "Python 3",
   "language": "python",
   "name": "python3"
  },
  "language_info": {
   "codemirror_mode": {
    "name": "ipython",
    "version": 3
   },
   "file_extension": ".py",
   "mimetype": "text/x-python",
   "name": "python",
   "nbconvert_exporter": "python",
   "pygments_lexer": "ipython3",
   "version": "3.8.3"
  }
 },
 "nbformat": 4,
 "nbformat_minor": 4
}
