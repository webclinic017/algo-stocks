{
 "cells": [
  {
   "cell_type": "code",
   "execution_count": 4,
   "metadata": {},
   "outputs": [],
   "source": [
    "import warnings\n",
    "warnings.filterwarnings('ignore')\n",
    "\n",
    "import os\n",
    "import sys\n",
    "\n",
    "BACKTESTING_MODULE_PATH = os.path.abspath('../../backtest')\n",
    "sys.path.insert(1, BACKTESTING_MODULE_PATH)\n",
    "from backtesting.backtesting import Backtest, Strategy\n",
    "\n",
    "METHOD_MODULE_PATH = os.path.abspath('../..')\n",
    "sys.path.insert(1, METHOD_MODULE_PATH)\n",
    "import method.Ticker as Ticker\n",
    "import method.SaleRules as _sr\n",
    "import method.algofuncs as _af\n",
    "path = os.getcwd()"
   ]
  },
  {
   "cell_type": "code",
   "execution_count": 5,
   "metadata": {},
   "outputs": [],
   "source": [
    "path = os.getcwd()\n",
    "class FollowTheTrend(Strategy):\n",
    "    def init(self):\n",
    "        self.buy_price = 0\n",
    "        self._index = 0\n",
    "    def next(self):\n",
    "        prices = self.data.Close\n",
    "        opens = self.data.Open\n",
    "        volumes = self.data.Volume\n",
    "        if len(self.data.Volume) > 5:\n",
    "            last_price = prices[-1]\n",
    "            if self.buy_price == 0 and Ticker.isFollowTrendingV2(prices, volumes, opens[-1], 2.5):\n",
    "                self.buy_price = last_price\n",
    "                self.buy()\n",
    "            if self.buy_price != 0 and (_sr.takeProfitByPercent(5, last_price, self.buy_price) or _sr.shouldCutLossByPercent(8, last_price, self.buy_price)):\n",
    "                self.position.close()\n",
    "                self.buy_price = 0"
   ]
  },
  {
   "cell_type": "code",
   "execution_count": 8,
   "metadata": {},
   "outputs": [
    {
     "data": {
      "text/plain": [
       "[]"
      ]
     },
     "execution_count": 8,
     "metadata": {},
     "output_type": "execute_result"
    }
   ],
   "source": [
    "DATA_PATH = os.path.abspath('../../vn-stock-data/VNX/')\n",
    "ticker_follow_trending = []\n",
    "vn30_ticker = _af.getListVN30()\n",
    "for ticker_id in vn30_ticker:\n",
    "    ticker = _af.get_pricing_by_path(DATA_PATH + '/' + ticker_id+'.csv', '2018-01-01', '2020-10-05')\n",
    "    bt = Backtest(ticker, FollowTheTrend, commission=.005, exclusive_orders=False)\n",
    "    stats = bt.run()\n",
    "    if stats['Return [%]'] > 45:\n",
    "        ticker_follow_trending.append(ticker_id)\n",
    "ticker_follow_trending"
   ]
  },
  {
   "cell_type": "code",
   "execution_count": null,
   "metadata": {},
   "outputs": [],
   "source": []
  }
 ],
 "metadata": {
  "kernelspec": {
   "display_name": "Python 3",
   "language": "python",
   "name": "python3"
  },
  "language_info": {
   "codemirror_mode": {
    "name": "ipython",
    "version": 3
   },
   "file_extension": ".py",
   "mimetype": "text/x-python",
   "name": "python",
   "nbconvert_exporter": "python",
   "pygments_lexer": "ipython3",
   "version": "3.8.3"
  }
 },
 "nbformat": 4,
 "nbformat_minor": 4
}
